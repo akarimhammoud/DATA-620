{
 "cells": [
  {
   "cell_type": "markdown",
   "id": "2be90b83-4dc4-4e61-ba0d-cf71ab487180",
   "metadata": {},
   "source": [
    "# 620 - Project1 Network Analysis: Centrality Measures\n",
    "\n",
    "Maliat Islam, Layla Quinones, and Karim Hammoud\n",
    "\n",
    "\n",
    "#### **Data Collection:**\n",
    "The dataset we are going to use is Popular Baby Names from NYC Open Data. The name of the dataset is Popular Baby Name. The names are stored by Sex and Ethnic group. Each records represent the popularity of a name.This assignment is going to calculate popular baby names among certain ethnic groups.\n",
    "\n",
    "#### Source:\n",
    "In this project we choose the data set of Popular Baby Names in NYC We can access the data via API on the web from NYC open data\n",
    "\n",
    "We pull the data from NYC open source API and added the data is stored in a CSV format.\n",
    "\n",
    "<a href=\"https://data.cityofnewyork.us/Health/Popular-Baby-Names/25th-nujf\" target=\"_blank\">hyperlinked words</a>\n",
    "\n",
    "The dataset has nodes and edges and\n",
    "Each ethnic groups have differeent degrees."
   ]
  },
  {
   "cell_type": "markdown",
   "id": "e675b747-82cf-42b0-9379-43e3b9970001",
   "metadata": {},
   "source": [
    "#### Setting up the packages for Python.\n",
    "\n",
    "Our data has been downloaded using Sodapy. Sodapy is a python client for the Socrata Open Data API.\n",
    "we will perform sertain analysis on our dataset. They are described below.\\"
   ]
  },
  {
   "cell_type": "code",
   "execution_count": 3,
   "id": "80848df0-f65f-411d-80b0-90984de5385a",
   "metadata": {},
   "outputs": [],
   "source": [
    "import networkx as net, pandas as pd, numpy as np, re, matplotlib.pyplot as plt, warnings, seaborn as sns\n",
    "\n",
    "# import Socrata to pull the API\n",
    "from sodapy import Socrata"
   ]
  },
  {
   "cell_type": "markdown",
   "id": "89d907fb-48e6-4d07-a545-bd6f0bcf2d5b",
   "metadata": {},
   "source": [
    "#### Dataset Selection\n",
    "\n",
    "NYC OpenData was accessed using the Socrata API as below, we created a client connection and store the data in a pandas dataframe."
   ]
  },
  {
   "cell_type": "code",
   "execution_count": 4,
   "id": "fec95638-3c90-4ce6-8b32-5409df83ec5a",
   "metadata": {},
   "outputs": [
    {
     "name": "stderr",
     "output_type": "stream",
     "text": [
      "WARNING:root:Requests made without an app_token will be subject to strict throttling limits.\n"
     ]
    }
   ],
   "source": [
    "\n",
    "client = Socrata(\"data.cityofnewyork.us\", None)\n",
    "\n",
    "results = client.get(\"25th-nujf\", limit=2000)\n",
    "\n",
    "\n",
    "# Convert to pandas DataFrame\n",
    "df = pd.DataFrame.from_records(results)\n",
    "warnings.filterwarnings('ignore')"
   ]
  },
  {
   "cell_type": "code",
   "execution_count": 10,
   "id": "24bd2386-1e3a-4cc2-a0ef-87faaf70c410",
   "metadata": {},
   "outputs": [
    {
     "data": {
      "text/html": [
       "<div>\n",
       "<style scoped>\n",
       "    .dataframe tbody tr th:only-of-type {\n",
       "        vertical-align: middle;\n",
       "    }\n",
       "\n",
       "    .dataframe tbody tr th {\n",
       "        vertical-align: top;\n",
       "    }\n",
       "\n",
       "    .dataframe thead th {\n",
       "        text-align: right;\n",
       "    }\n",
       "</style>\n",
       "<table border=\"1\" class=\"dataframe\">\n",
       "  <thead>\n",
       "    <tr style=\"text-align: right;\">\n",
       "      <th></th>\n",
       "      <th>brth_yr</th>\n",
       "      <th>gndr</th>\n",
       "      <th>ethcty</th>\n",
       "      <th>nm</th>\n",
       "      <th>cnt</th>\n",
       "      <th>rnk</th>\n",
       "    </tr>\n",
       "  </thead>\n",
       "  <tbody>\n",
       "    <tr>\n",
       "      <th>0</th>\n",
       "      <td>2017</td>\n",
       "      <td>FEMALE</td>\n",
       "      <td>ASIAN AND PACIFIC ISLANDER</td>\n",
       "      <td>Olivia</td>\n",
       "      <td>136</td>\n",
       "      <td>1</td>\n",
       "    </tr>\n",
       "    <tr>\n",
       "      <th>1</th>\n",
       "      <td>2017</td>\n",
       "      <td>FEMALE</td>\n",
       "      <td>ASIAN AND PACIFIC ISLANDER</td>\n",
       "      <td>Emma</td>\n",
       "      <td>109</td>\n",
       "      <td>2</td>\n",
       "    </tr>\n",
       "    <tr>\n",
       "      <th>2</th>\n",
       "      <td>2017</td>\n",
       "      <td>FEMALE</td>\n",
       "      <td>ASIAN AND PACIFIC ISLANDER</td>\n",
       "      <td>Chloe</td>\n",
       "      <td>103</td>\n",
       "      <td>3</td>\n",
       "    </tr>\n",
       "    <tr>\n",
       "      <th>3</th>\n",
       "      <td>2017</td>\n",
       "      <td>FEMALE</td>\n",
       "      <td>ASIAN AND PACIFIC ISLANDER</td>\n",
       "      <td>Sophia</td>\n",
       "      <td>86</td>\n",
       "      <td>4</td>\n",
       "    </tr>\n",
       "    <tr>\n",
       "      <th>4</th>\n",
       "      <td>2017</td>\n",
       "      <td>FEMALE</td>\n",
       "      <td>ASIAN AND PACIFIC ISLANDER</td>\n",
       "      <td>Mia</td>\n",
       "      <td>79</td>\n",
       "      <td>5</td>\n",
       "    </tr>\n",
       "  </tbody>\n",
       "</table>\n",
       "</div>"
      ],
      "text/plain": [
       "  brth_yr    gndr                      ethcty      nm  cnt rnk\n",
       "0    2017  FEMALE  ASIAN AND PACIFIC ISLANDER  Olivia  136   1\n",
       "1    2017  FEMALE  ASIAN AND PACIFIC ISLANDER    Emma  109   2\n",
       "2    2017  FEMALE  ASIAN AND PACIFIC ISLANDER   Chloe  103   3\n",
       "3    2017  FEMALE  ASIAN AND PACIFIC ISLANDER  Sophia   86   4\n",
       "4    2017  FEMALE  ASIAN AND PACIFIC ISLANDER     Mia   79   5"
      ]
     },
     "execution_count": 10,
     "metadata": {},
     "output_type": "execute_result"
    }
   ],
   "source": [
    "df.head()"
   ]
  },
  {
   "cell_type": "code",
   "execution_count": 11,
   "id": "5fb9adb5-e968-4221-9292-8f0852cb4971",
   "metadata": {},
   "outputs": [
    {
     "data": {
      "text/html": [
       "<div>\n",
       "<style scoped>\n",
       "    .dataframe tbody tr th:only-of-type {\n",
       "        vertical-align: middle;\n",
       "    }\n",
       "\n",
       "    .dataframe tbody tr th {\n",
       "        vertical-align: top;\n",
       "    }\n",
       "\n",
       "    .dataframe thead th {\n",
       "        text-align: right;\n",
       "    }\n",
       "</style>\n",
       "<table border=\"1\" class=\"dataframe\">\n",
       "  <thead>\n",
       "    <tr style=\"text-align: right;\">\n",
       "      <th></th>\n",
       "      <th>brth_yr</th>\n",
       "      <th>gndr</th>\n",
       "      <th>ethcty</th>\n",
       "      <th>nm</th>\n",
       "      <th>cnt</th>\n",
       "      <th>rnk</th>\n",
       "    </tr>\n",
       "  </thead>\n",
       "  <tbody>\n",
       "    <tr>\n",
       "      <th>count</th>\n",
       "      <td>2000</td>\n",
       "      <td>2000</td>\n",
       "      <td>2000</td>\n",
       "      <td>2000</td>\n",
       "      <td>2000</td>\n",
       "      <td>2000</td>\n",
       "    </tr>\n",
       "    <tr>\n",
       "      <th>unique</th>\n",
       "      <td>2</td>\n",
       "      <td>2</td>\n",
       "      <td>4</td>\n",
       "      <td>1209</td>\n",
       "      <td>166</td>\n",
       "      <td>97</td>\n",
       "    </tr>\n",
       "    <tr>\n",
       "      <th>top</th>\n",
       "      <td>2017</td>\n",
       "      <td>FEMALE</td>\n",
       "      <td>WHITE NON HISPANIC</td>\n",
       "      <td>Jordan</td>\n",
       "      <td>10</td>\n",
       "      <td>68</td>\n",
       "    </tr>\n",
       "    <tr>\n",
       "      <th>freq</th>\n",
       "      <td>1973</td>\n",
       "      <td>1039</td>\n",
       "      <td>727</td>\n",
       "      <td>6</td>\n",
       "      <td>156</td>\n",
       "      <td>47</td>\n",
       "    </tr>\n",
       "  </tbody>\n",
       "</table>\n",
       "</div>"
      ],
      "text/plain": [
       "       brth_yr    gndr              ethcty      nm   cnt   rnk\n",
       "count     2000    2000                2000    2000  2000  2000\n",
       "unique       2       2                   4    1209   166    97\n",
       "top       2017  FEMALE  WHITE NON HISPANIC  Jordan    10    68\n",
       "freq      1973    1039                 727       6   156    47"
      ]
     },
     "execution_count": 11,
     "metadata": {},
     "output_type": "execute_result"
    }
   ],
   "source": [
    "df.describe()"
   ]
  },
  {
   "cell_type": "code",
   "execution_count": 12,
   "id": "211ece29-9717-4020-ba63-1f798d1e493d",
   "metadata": {},
   "outputs": [
    {
     "name": "stdout",
     "output_type": "stream",
     "text": [
      "<class 'pandas.core.frame.DataFrame'>\n",
      "RangeIndex: 2000 entries, 0 to 1999\n",
      "Data columns (total 6 columns):\n",
      " #   Column   Non-Null Count  Dtype \n",
      "---  ------   --------------  ----- \n",
      " 0   brth_yr  2000 non-null   object\n",
      " 1   gndr     2000 non-null   object\n",
      " 2   ethcty   2000 non-null   object\n",
      " 3   nm       2000 non-null   object\n",
      " 4   cnt      2000 non-null   object\n",
      " 5   rnk      2000 non-null   object\n",
      "dtypes: object(6)\n",
      "memory usage: 93.9+ KB\n"
     ]
    }
   ],
   "source": [
    "df.info()"
   ]
  },
  {
   "cell_type": "markdown",
   "id": "24ddbc2f-c2c2-4533-bafe-b9bbee52b86b",
   "metadata": {},
   "source": [
    "### Network Charecterization:\n",
    "Firstly data will be explored and the number of edges and nodes will be identified."
   ]
  },
  {
   "cell_type": "code",
   "execution_count": 13,
   "id": "00c117ad-5619-401a-88ea-13bd3d6dc0c0",
   "metadata": {},
   "outputs": [],
   "source": [
    "nm = list(df.nm.unique())\n",
    "gndr = list(df.gndr.unique())\n",
    "brth_yr = list(df.brth_yr.unique())\n",
    "ethcty = list(df.ethcty.unique())"
   ]
  },
  {
   "cell_type": "code",
   "execution_count": 19,
   "id": "9268d8ba-1261-47d2-aac5-1b6a53a5c478",
   "metadata": {},
   "outputs": [
    {
     "name": "stdout",
     "output_type": "stream",
     "text": [
      "Name: \n",
      "Type: Graph\n",
      "Number of nodes: 1213\n",
      "Number of edges: 1956\n",
      "Average degree:   3.2251\n"
     ]
    }
   ],
   "source": [
    "G = net.Graph()\n",
    "\n",
    "G = net.from_pandas_edgelist(df, source='nm', target='ethcty',edge_attr=True)\n",
    "\n",
    "print(net.info(G))"
   ]
  },
  {
   "cell_type": "code",
   "execution_count": 20,
   "id": "5ccc457d-c28c-42d2-a276-9f57add98979",
   "metadata": {},
   "outputs": [
    {
     "name": "stdout",
     "output_type": "stream",
     "text": [
      "Degree of Ethnicity: \n",
      "                             DEGREE\n",
      "Ethnicity:                        \n",
      "WHITE NON HISPANIC             716\n",
      "HISPANIC                       555\n",
      "ASIAN AND PACIFIC ISLANDER     346\n",
      "BLACK NON HISPANIC             339\n"
     ]
    }
   ],
   "source": [
    "gd=pd.DataFrame(G.degree(ethcty)).sort_values(1,ascending =False).rename({0:'Ethnicity:',1:'DEGREE'}, axis=1).set_index(\"Ethnicity:\")\n",
    "print(\"Degree of Ethnicity: \\n\", gd)\n"
   ]
  },
  {
   "cell_type": "code",
   "execution_count": 22,
   "id": "5cb12a40-9073-46e2-9ef6-bf7ebd740cb9",
   "metadata": {},
   "outputs": [
    {
     "name": "stdout",
     "output_type": "stream",
     "text": [
      "Name: \n",
      "Type: Graph\n",
      "Number of nodes: 1211\n",
      "Number of edges: 1227\n",
      "Average degree:   2.0264\n",
      "Degree of Ethnicity: \n",
      "         DEGREE\n",
      "gndr:         \n",
      "FEMALE     650\n",
      "MALE       577\n"
     ]
    }
   ],
   "source": [
    "G2 = net.Graph()\n",
    "\n",
    "G2 = net.from_pandas_edgelist(df, source='nm', target='gndr',edge_attr=True)\n",
    "\n",
    "print(net.info(G2))\n",
    "\n",
    "gd2=pd.DataFrame(G2.degree(gndr)).sort_values(1,ascending =False).rename({0:'gndr:',1:'DEGREE'}, axis=1).set_index(\"gndr:\")\n",
    "print(\"Degree of Ethnicity: \\n\", gd2)\n"
   ]
  },
  {
   "cell_type": "markdown",
   "id": "b6d1719c-61dd-4de5-ae61-2453ea62ee6f",
   "metadata": {},
   "source": [
    "### Network Visualization:\n",
    "\n",
    "The network  will be visualized by for each different ethnic categories."
   ]
  },
  {
   "cell_type": "code",
   "execution_count": 33,
   "id": "687a5bf8-a76b-4e32-8669-7f1f087e265e",
   "metadata": {},
   "outputs": [
    {
     "data": {
      "image/png": "[encoded data removed]",
      "text/plain": [
       "<Figure size 432x288 with 1 Axes>"
      ]
     },
     "metadata": {},
     "output_type": "display_data"
    }
   ],
   "source": [
    "net.draw(G, with_lables =True)\n",
    "plt.show()"
   ]
  },
  {
   "cell_type": "code",
   "execution_count": null,
   "id": "930943c7-7ff6-4fe7-b352-66e21b98164c",
   "metadata": {},
   "outputs": [],
   "source": [
    "net.draw(G2, with_lables =True)\n",
    "plt.show()"
   ]
  },
  {
   "cell_type": "code",
   "execution_count": 29,
   "id": "a4323449-d7ec-481b-9268-edfaf4d6552d",
   "metadata": {},
   "outputs": [],
   "source": [
    "net.write_gexf(G2, 'fb.gexf')"
   ]
  },
  {
   "cell_type": "markdown",
   "id": "a4eaf3cf-4715-4b37-aa12-4e6a0c85b485",
   "metadata": {},
   "source": [
    "### Centrality Measures¶\n",
    "\n",
    "Centrality measures will be calculated to have understanding of important nodes within the network,and degree of interactions with other nodes. Degree centrality by category(ethnicity) will be calculated as well."
   ]
  },
  {
   "cell_type": "markdown",
   "id": "125bda6a-4364-460a-b143-f77f893b658a",
   "metadata": {},
   "source": [
    "Statistical Analysis on Centrality Measure:\n",
    "With centrality measures calculated on each nodes by category, we can calculate average across these groups and apply t-tests to see if there are statistically significant differences in average degree cewntrality and Eigenvector centrality across ethnic groups.\n"
   ]
  },
  {
   "cell_type": "code",
   "execution_count": 31,
   "id": "dce3af39-9c37-429d-8b40-9367d5e89ec0",
   "metadata": {},
   "outputs": [
    {
     "data": {
      "text/html": [
       "<div>\n",
       "<style scoped>\n",
       "    .dataframe tbody tr th:only-of-type {\n",
       "        vertical-align: middle;\n",
       "    }\n",
       "\n",
       "    .dataframe tbody tr th {\n",
       "        vertical-align: top;\n",
       "    }\n",
       "\n",
       "    .dataframe thead th {\n",
       "        text-align: right;\n",
       "    }\n",
       "</style>\n",
       "<table border=\"1\" class=\"dataframe\">\n",
       "  <thead>\n",
       "    <tr style=\"text-align: right;\">\n",
       "      <th></th>\n",
       "      <th>index</th>\n",
       "      <th>degree</th>\n",
       "      <th>betweenness</th>\n",
       "      <th>closeness</th>\n",
       "      <th>eigen</th>\n",
       "    </tr>\n",
       "  </thead>\n",
       "  <tbody>\n",
       "    <tr>\n",
       "      <th>435</th>\n",
       "      <td>WHITE NON HISPANIC</td>\n",
       "      <td>0.590759</td>\n",
       "      <td>0.599343</td>\n",
       "      <td>0.550659</td>\n",
       "      <td>0.472934</td>\n",
       "    </tr>\n",
       "    <tr>\n",
       "      <th>286</th>\n",
       "      <td>HISPANIC</td>\n",
       "      <td>0.457921</td>\n",
       "      <td>0.401031</td>\n",
       "      <td>0.480380</td>\n",
       "      <td>0.387751</td>\n",
       "    </tr>\n",
       "    <tr>\n",
       "      <th>1</th>\n",
       "      <td>ASIAN AND PACIFIC ISLANDER</td>\n",
       "      <td>0.285479</td>\n",
       "      <td>0.185217</td>\n",
       "      <td>0.412105</td>\n",
       "      <td>0.266178</td>\n",
       "    </tr>\n",
       "    <tr>\n",
       "      <th>173</th>\n",
       "      <td>BLACK NON HISPANIC</td>\n",
       "      <td>0.279703</td>\n",
       "      <td>0.212405</td>\n",
       "      <td>0.410152</td>\n",
       "      <td>0.234802</td>\n",
       "    </tr>\n",
       "  </tbody>\n",
       "</table>\n",
       "</div>"
      ],
      "text/plain": [
       "                          index    degree  betweenness  closeness     eigen\n",
       "435          WHITE NON HISPANIC  0.590759     0.599343   0.550659  0.472934\n",
       "286                    HISPANIC  0.457921     0.401031   0.480380  0.387751\n",
       "1    ASIAN AND PACIFIC ISLANDER  0.285479     0.185217   0.412105  0.266178\n",
       "173          BLACK NON HISPANIC  0.279703     0.212405   0.410152  0.234802"
      ]
     },
     "execution_count": 31,
     "metadata": {},
     "output_type": "execute_result"
    }
   ],
   "source": [
    "# create dataframe of graph centrality measures\n",
    "cm = pd.DataFrame()\n",
    "cm['degree'] = net.degree_centrality(G).values()\n",
    "cm['betweenness'] = net.betweenness_centrality(G).values()\n",
    "cm['closeness'] = net.closeness_centrality(G).values()\n",
    "cm['eigen'] = net.eigenvector_centrality_numpy(G).values() \n",
    "cm.index = list(G)\n",
    "\n",
    "# view centrality measures across boroughs\n",
    "dat = cm.reset_index()\n",
    "dat.sort_values('degree' ,ascending = False).head(4)"
   ]
  },
  {
   "cell_type": "code",
   "execution_count": 32,
   "id": "a5a6914e-13e9-4556-819e-2648183149d8",
   "metadata": {},
   "outputs": [
    {
     "data": {
      "text/html": [
       "<div>\n",
       "<style scoped>\n",
       "    .dataframe tbody tr th:only-of-type {\n",
       "        vertical-align: middle;\n",
       "    }\n",
       "\n",
       "    .dataframe tbody tr th {\n",
       "        vertical-align: top;\n",
       "    }\n",
       "\n",
       "    .dataframe thead th {\n",
       "        text-align: right;\n",
       "    }\n",
       "</style>\n",
       "<table border=\"1\" class=\"dataframe\">\n",
       "  <thead>\n",
       "    <tr style=\"text-align: right;\">\n",
       "      <th></th>\n",
       "      <th>brth_yr</th>\n",
       "      <th>gndr</th>\n",
       "      <th>ethcty</th>\n",
       "      <th>nm</th>\n",
       "      <th>cnt</th>\n",
       "      <th>rnk</th>\n",
       "      <th>degree</th>\n",
       "      <th>betweenness</th>\n",
       "      <th>closeness</th>\n",
       "      <th>eigen</th>\n",
       "    </tr>\n",
       "  </thead>\n",
       "  <tbody>\n",
       "    <tr>\n",
       "      <th>0</th>\n",
       "      <td>2017</td>\n",
       "      <td>FEMALE</td>\n",
       "      <td>ASIAN AND PACIFIC ISLANDER</td>\n",
       "      <td>Olivia</td>\n",
       "      <td>136</td>\n",
       "      <td>1</td>\n",
       "      <td>0.285479</td>\n",
       "      <td>0.185217</td>\n",
       "      <td>0.412105</td>\n",
       "      <td>0.266178</td>\n",
       "    </tr>\n",
       "    <tr>\n",
       "      <th>1</th>\n",
       "      <td>2017</td>\n",
       "      <td>FEMALE</td>\n",
       "      <td>ASIAN AND PACIFIC ISLANDER</td>\n",
       "      <td>Emma</td>\n",
       "      <td>109</td>\n",
       "      <td>2</td>\n",
       "      <td>0.285479</td>\n",
       "      <td>0.185217</td>\n",
       "      <td>0.412105</td>\n",
       "      <td>0.266178</td>\n",
       "    </tr>\n",
       "    <tr>\n",
       "      <th>2</th>\n",
       "      <td>2017</td>\n",
       "      <td>FEMALE</td>\n",
       "      <td>ASIAN AND PACIFIC ISLANDER</td>\n",
       "      <td>Chloe</td>\n",
       "      <td>103</td>\n",
       "      <td>3</td>\n",
       "      <td>0.285479</td>\n",
       "      <td>0.185217</td>\n",
       "      <td>0.412105</td>\n",
       "      <td>0.266178</td>\n",
       "    </tr>\n",
       "    <tr>\n",
       "      <th>3</th>\n",
       "      <td>2017</td>\n",
       "      <td>FEMALE</td>\n",
       "      <td>ASIAN AND PACIFIC ISLANDER</td>\n",
       "      <td>Sophia</td>\n",
       "      <td>86</td>\n",
       "      <td>4</td>\n",
       "      <td>0.285479</td>\n",
       "      <td>0.185217</td>\n",
       "      <td>0.412105</td>\n",
       "      <td>0.266178</td>\n",
       "    </tr>\n",
       "    <tr>\n",
       "      <th>4</th>\n",
       "      <td>2017</td>\n",
       "      <td>FEMALE</td>\n",
       "      <td>ASIAN AND PACIFIC ISLANDER</td>\n",
       "      <td>Mia</td>\n",
       "      <td>79</td>\n",
       "      <td>5</td>\n",
       "      <td>0.285479</td>\n",
       "      <td>0.185217</td>\n",
       "      <td>0.412105</td>\n",
       "      <td>0.266178</td>\n",
       "    </tr>\n",
       "  </tbody>\n",
       "</table>\n",
       "</div>"
      ],
      "text/plain": [
       "  brth_yr    gndr                      ethcty      nm  cnt rnk    degree  \\\n",
       "0    2017  FEMALE  ASIAN AND PACIFIC ISLANDER  Olivia  136   1  0.285479   \n",
       "1    2017  FEMALE  ASIAN AND PACIFIC ISLANDER    Emma  109   2  0.285479   \n",
       "2    2017  FEMALE  ASIAN AND PACIFIC ISLANDER   Chloe  103   3  0.285479   \n",
       "3    2017  FEMALE  ASIAN AND PACIFIC ISLANDER  Sophia   86   4  0.285479   \n",
       "4    2017  FEMALE  ASIAN AND PACIFIC ISLANDER     Mia   79   5  0.285479   \n",
       "\n",
       "   betweenness  closeness     eigen  \n",
       "0     0.185217   0.412105  0.266178  \n",
       "1     0.185217   0.412105  0.266178  \n",
       "2     0.185217   0.412105  0.266178  \n",
       "3     0.185217   0.412105  0.266178  \n",
       "4     0.185217   0.412105  0.266178  "
      ]
     },
     "execution_count": 32,
     "metadata": {},
     "output_type": "execute_result"
    }
   ],
   "source": [
    "network = pd.merge(df, cm, how='inner', left_on = 'ethcty', right_on = cm.index)\n",
    "network.head()"
   ]
  },
  {
   "cell_type": "markdown",
   "id": "012570f7-fa98-4ef9-b603-6a77ac437e8e",
   "metadata": {},
   "source": [
    "## Visualizing Centrality Measures"
   ]
  },
  {
   "cell_type": "code",
   "execution_count": 255,
   "id": "509a4a7f-2eb4-4e48-ae80-29bbc40dbce5",
   "metadata": {},
   "outputs": [
    {
     "data": {
      "image/png": "[encoded data removed]",
      "text/plain": [
       "<Figure size 432x288 with 3 Axes>"
      ]
     },
     "metadata": {
      "needs_background": "light"
     },
     "output_type": "display_data"
    },
    {
     "data": {
      "image/png": "[encoded data removed]",
      "text/plain": [
       "<Figure size 432x288 with 1 Axes>"
      ]
     },
     "metadata": {
      "needs_background": "light"
     },
     "output_type": "display_data"
    }
   ],
   "source": [
    "fig, ax = plt.subplots(1, 3)\n",
    "\n",
    "sns.distplot(network.degree, ax=ax[0])\n",
    "sns.distplot(network.closeness, ax=ax[1])\n",
    "sns.distplot(network.eigen, ax=ax[2])\n",
    "\n",
    "plt.show()\n",
    "\n",
    "sns.distplot(network.betweenness)\n",
    "plt.show()"
   ]
  },
  {
   "cell_type": "markdown",
   "id": "99c6fa06-4d90-4d05-851d-3fe53fe4f867",
   "metadata": {},
   "source": [
    "## Correlation of Centrality Measures"
   ]
  },
  {
   "cell_type": "code",
   "execution_count": 246,
   "id": "e2994768-bc08-4ca1-b0b6-f3086d0dda3c",
   "metadata": {},
   "outputs": [
    {
     "data": {
      "text/html": [
       "<div>\n",
       "<style scoped>\n",
       "    .dataframe tbody tr th:only-of-type {\n",
       "        vertical-align: middle;\n",
       "    }\n",
       "\n",
       "    .dataframe tbody tr th {\n",
       "        vertical-align: top;\n",
       "    }\n",
       "\n",
       "    .dataframe thead th {\n",
       "        text-align: right;\n",
       "    }\n",
       "</style>\n",
       "<table border=\"1\" class=\"dataframe\">\n",
       "  <thead>\n",
       "    <tr style=\"text-align: right;\">\n",
       "      <th></th>\n",
       "      <th>degree</th>\n",
       "      <th>betweenness</th>\n",
       "      <th>closeness</th>\n",
       "      <th>eigen</th>\n",
       "    </tr>\n",
       "  </thead>\n",
       "  <tbody>\n",
       "    <tr>\n",
       "      <th>degree</th>\n",
       "      <td>1.000000</td>\n",
       "      <td>0.990489</td>\n",
       "      <td>0.131335</td>\n",
       "      <td>0.904129</td>\n",
       "    </tr>\n",
       "    <tr>\n",
       "      <th>betweenness</th>\n",
       "      <td>0.990489</td>\n",
       "      <td>1.000000</td>\n",
       "      <td>0.128450</td>\n",
       "      <td>0.888938</td>\n",
       "    </tr>\n",
       "    <tr>\n",
       "      <th>closeness</th>\n",
       "      <td>0.131335</td>\n",
       "      <td>0.128450</td>\n",
       "      <td>1.000000</td>\n",
       "      <td>0.533911</td>\n",
       "    </tr>\n",
       "    <tr>\n",
       "      <th>eigen</th>\n",
       "      <td>0.904129</td>\n",
       "      <td>0.888938</td>\n",
       "      <td>0.533911</td>\n",
       "      <td>1.000000</td>\n",
       "    </tr>\n",
       "  </tbody>\n",
       "</table>\n",
       "</div>"
      ],
      "text/plain": [
       "               degree  betweenness  closeness     eigen\n",
       "degree       1.000000     0.990489   0.131335  0.904129\n",
       "betweenness  0.990489     1.000000   0.128450  0.888938\n",
       "closeness    0.131335     0.128450   1.000000  0.533911\n",
       "eigen        0.904129     0.888938   0.533911  1.000000"
      ]
     },
     "execution_count": 246,
     "metadata": {},
     "output_type": "execute_result"
    }
   ],
   "source": [
    "# correlation between the measures centrality \n",
    "su_df = dat[['degree','betweenness','closeness','eigen']]\n",
    "su_df.corr()"
   ]
  },
  {
   "cell_type": "code",
   "execution_count": 248,
   "id": "ae8943eb-e803-4487-a685-3a278403c061",
   "metadata": {},
   "outputs": [
    {
     "data": {
      "text/plain": [
       "<seaborn.axisgrid.PairGrid at 0x7f8d15577748>"
      ]
     },
     "execution_count": 248,
     "metadata": {},
     "output_type": "execute_result"
    },
    {
     "data": {
      "image/png": "[encoded data removed]",
      "text/plain": [
       "<Figure size 720x720 with 20 Axes>"
      ]
     },
     "metadata": {
      "needs_background": "light"
     },
     "output_type": "display_data"
    }
   ],
   "source": [
    "sns.pairplot(dat)"
   ]
  },
  {
   "cell_type": "markdown",
   "id": "7b48c529-ec4a-4232-b931-38d810f68c14",
   "metadata": {},
   "source": [
    "## Centrality Measures Comparisons"
   ]
  },
  {
   "cell_type": "code",
   "execution_count": 259,
   "id": "d55a5ad7-c011-49f6-bf80-520f6130686c",
   "metadata": {},
   "outputs": [
    {
     "data": {
      "text/html": [
       "<div>\n",
       "<style scoped>\n",
       "    .dataframe tbody tr th:only-of-type {\n",
       "        vertical-align: middle;\n",
       "    }\n",
       "\n",
       "    .dataframe tbody tr th {\n",
       "        vertical-align: top;\n",
       "    }\n",
       "\n",
       "    .dataframe thead th {\n",
       "        text-align: right;\n",
       "    }\n",
       "</style>\n",
       "<table border=\"1\" class=\"dataframe\">\n",
       "  <thead>\n",
       "    <tr style=\"text-align: right;\">\n",
       "      <th></th>\n",
       "      <th></th>\n",
       "      <th>degree</th>\n",
       "      <th>betweenness</th>\n",
       "      <th>closeness</th>\n",
       "      <th>eigen</th>\n",
       "    </tr>\n",
       "    <tr>\n",
       "      <th>ethcty</th>\n",
       "      <th>gndr</th>\n",
       "      <th></th>\n",
       "      <th></th>\n",
       "      <th></th>\n",
       "      <th></th>\n",
       "    </tr>\n",
       "  </thead>\n",
       "  <tbody>\n",
       "    <tr>\n",
       "      <th rowspan=\"2\" valign=\"top\">ASIAN AND PACIFIC ISLANDER</th>\n",
       "      <th>FEMALE</th>\n",
       "      <td>0.285479</td>\n",
       "      <td>0.185217</td>\n",
       "      <td>0.412105</td>\n",
       "      <td>0.266178</td>\n",
       "    </tr>\n",
       "    <tr>\n",
       "      <th>MALE</th>\n",
       "      <td>0.285479</td>\n",
       "      <td>0.185217</td>\n",
       "      <td>0.412105</td>\n",
       "      <td>0.266178</td>\n",
       "    </tr>\n",
       "    <tr>\n",
       "      <th rowspan=\"2\" valign=\"top\">BLACK NON HISPANIC</th>\n",
       "      <th>FEMALE</th>\n",
       "      <td>0.279703</td>\n",
       "      <td>0.212405</td>\n",
       "      <td>0.410152</td>\n",
       "      <td>0.234802</td>\n",
       "    </tr>\n",
       "    <tr>\n",
       "      <th>MALE</th>\n",
       "      <td>0.279703</td>\n",
       "      <td>0.212405</td>\n",
       "      <td>0.410152</td>\n",
       "      <td>0.234802</td>\n",
       "    </tr>\n",
       "    <tr>\n",
       "      <th rowspan=\"2\" valign=\"top\">HISPANIC</th>\n",
       "      <th>FEMALE</th>\n",
       "      <td>0.457921</td>\n",
       "      <td>0.401031</td>\n",
       "      <td>0.480380</td>\n",
       "      <td>0.387751</td>\n",
       "    </tr>\n",
       "    <tr>\n",
       "      <th>MALE</th>\n",
       "      <td>0.457921</td>\n",
       "      <td>0.401031</td>\n",
       "      <td>0.480380</td>\n",
       "      <td>0.387751</td>\n",
       "    </tr>\n",
       "    <tr>\n",
       "      <th rowspan=\"2\" valign=\"top\">WHITE NON HISPANIC</th>\n",
       "      <th>FEMALE</th>\n",
       "      <td>0.590759</td>\n",
       "      <td>0.599343</td>\n",
       "      <td>0.550659</td>\n",
       "      <td>0.472934</td>\n",
       "    </tr>\n",
       "    <tr>\n",
       "      <th>MALE</th>\n",
       "      <td>0.590759</td>\n",
       "      <td>0.599343</td>\n",
       "      <td>0.550659</td>\n",
       "      <td>0.472934</td>\n",
       "    </tr>\n",
       "  </tbody>\n",
       "</table>\n",
       "</div>"
      ],
      "text/plain": [
       "                                     degree  betweenness  closeness     eigen\n",
       "ethcty                     gndr                                              \n",
       "ASIAN AND PACIFIC ISLANDER FEMALE  0.285479     0.185217   0.412105  0.266178\n",
       "                           MALE    0.285479     0.185217   0.412105  0.266178\n",
       "BLACK NON HISPANIC         FEMALE  0.279703     0.212405   0.410152  0.234802\n",
       "                           MALE    0.279703     0.212405   0.410152  0.234802\n",
       "HISPANIC                   FEMALE  0.457921     0.401031   0.480380  0.387751\n",
       "                           MALE    0.457921     0.401031   0.480380  0.387751\n",
       "WHITE NON HISPANIC         FEMALE  0.590759     0.599343   0.550659  0.472934\n",
       "                           MALE    0.590759     0.599343   0.550659  0.472934"
      ]
     },
     "execution_count": 259,
     "metadata": {},
     "output_type": "execute_result"
    }
   ],
   "source": [
    "grouped=network.groupby(['ethcty','gndr'], as_index='ethcty').mean()[['degree', 'betweenness', 'closeness', 'eigen']]\n",
    "grouped\n",
    "\n"
   ]
  },
  {
   "cell_type": "code",
   "execution_count": null,
   "id": "948abb2a-2de3-41b6-8943-5c6ce5c0ca79",
   "metadata": {},
   "outputs": [],
   "source": []
  }
 ],
 "metadata": {
  "kernelspec": {
   "display_name": "Python 3",
   "language": "python",
   "name": "python3"
  },
  "language_info": {
   "codemirror_mode": {
    "name": "ipython",
    "version": 3
   },
   "file_extension": ".py",
   "mimetype": "text/x-python",
   "name": "python",
   "nbconvert_exporter": "python",
   "pygments_lexer": "ipython3",
   "version": "3.7.0"
  }
 },
 "nbformat": 4,
 "nbformat_minor": 5
}
