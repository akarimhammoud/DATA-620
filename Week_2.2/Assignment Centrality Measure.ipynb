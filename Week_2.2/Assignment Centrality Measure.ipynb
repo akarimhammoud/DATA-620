{
 "cells": [
  {
   "cell_type": "markdown",
   "id": "d35f6f78",
   "metadata": {},
   "source": [
    "# Assignment Centrality Measure:\n",
    "### Layla Quinones, Maliat Islam, Karim Hammoud\n",
    "\n",
    "\n",
    "\n",
    "## **Data Collection:**\n",
    "The dataset we are going to use is Popular Baby Names from NYC Open Data. The name of the dataset is Popular Baby Name. The names are stored by Sex and Ethnic group. Each records represent the popularity of a name.This assignment is going to calculate popular baby names among certain ethnic groups.\n",
    "\n",
    "## Source:\n",
    "<a href=\"https://data.cityofnewyork.us/Health/Popular-Baby-Names/25th-nujf\" target=\"_blank\">hyperlinked words</a>\n",
    "\n",
    "## Format:\n",
    "We pull the data from NYC open source API and added the data is stored in a CSV format.\n",
    "\n",
    "## Description:\n",
    "The dataset nodes are names and ethnicity will be referred as edges. Each ethnic groups have differeent degrees.\n",
    "\n",
    "## Data Analysis:\n",
    "Our data has been downloaded using Sodapy. Sodapy is a python client for the Socrata Open Data API.\n",
    "we will perform sertain analysis on our dataset. They are described below.\n",
    "\n",
    "## Network Charecterization:\n",
    "Firstly data will be explored and the number of edges and nodes will be identified.\n",
    "\n",
    "## Network Visualization:\n",
    "The network  will be visualized by for each different ethnic categories.\n",
    "\n",
    "## Calculation of Centrality Measure:\n",
    "Centrality measures will be calculated to have understanding of important nodes within the network,and degree of interactions with other nodes. Degree centrality by category(ethnicity) will be calculated as well.\n",
    "\n",
    "## Statistical Analysis on Centrality Measure:\n",
    "With centrality measures calculated on each nodes by category, we can calculate average across these groups and apply t-tests to see if there are statistically significant differences in average degree cewntrality and Eigenvector centrality across ethnic groups.\n",
    "\n",
    "## Statistica\n",
    "Analysis on Weights:\n",
    "We can implement weights to conduct analysis to determine the popular baby names and split this out across groups.By calculatingaverage of each groups, t-tests can be run again to understand the statistical significant differences. Our statistical analysis on weights will refer the strength of a certain baby name in a certain ethnic group."
   ]
  },
  {
   "cell_type": "code",
   "execution_count": null,
   "id": "2733d8cc",
   "metadata": {},
   "outputs": [],
   "source": []
  }
 ],
 "metadata": {
  "kernelspec": {
   "display_name": "Python 3",
   "language": "python",
   "name": "python3"
  },
  "language_info": {
   "codemirror_mode": {
    "name": "ipython",
    "version": 3
   },
   "file_extension": ".py",
   "mimetype": "text/x-python",
   "name": "python",
   "nbconvert_exporter": "python",
   "pygments_lexer": "ipython3",
   "version": "3.7.0"
  }
 },
 "nbformat": 4,
 "nbformat_minor": 5
}
